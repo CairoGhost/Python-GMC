{
 "cells": [
  {
   "cell_type": "code",
   "execution_count": 44,
   "id": "c915a195",
   "metadata": {},
   "outputs": [
    {
     "name": "stdout",
     "output_type": "stream",
     "text": [
      "Write your first name: Sara\n",
      "write your last name: Ahmed\n",
      "Ahmed Sara\n"
     ]
    }
   ],
   "source": [
    "## Question 1\n",
    "\n",
    "first_name = input(\"Write your first name: \")\n",
    "last_name = input(\"write your last name: \")\n",
    "print(last_name+\" \"+ first_name)"
   ]
  },
  {
   "cell_type": "code",
   "execution_count": 13,
   "id": "85197d03",
   "metadata": {},
   "outputs": [
    {
     "name": "stdout",
     "output_type": "stream",
     "text": [
      "Type an integer here: 5\n",
      "615\n"
     ]
    }
   ],
   "source": [
    "## Question 2\n",
    "\n",
    "n = input(\"Type an integer here: \")\n",
    "nn = n+n\n",
    "nnn = nn+n\n",
    "result = int(n) + int(nn) + int(nnn)\n",
    "print(result)"
   ]
  },
  {
   "cell_type": "code",
   "execution_count": 16,
   "id": "b5d9dff6",
   "metadata": {},
   "outputs": [
    {
     "name": "stdout",
     "output_type": "stream",
     "text": [
      "Enter any number to assess whether even or odd:7\n",
      "The provided number is odd\n"
     ]
    }
   ],
   "source": [
    "## Question 3\n",
    "\n",
    "num = int(input(\"Enter any number to assess whether even or odd:\"))\n",
    "if (num % 2) == 0:\n",
    "    print (\"The number is even\")\n",
    "else:\n",
    "    print (\"The provided number is odd\")\n"
   ]
  },
  {
   "cell_type": "code",
   "execution_count": 41,
   "id": "5fbcbb22",
   "metadata": {},
   "outputs": [
    {
     "name": "stdout",
     "output_type": "stream",
     "text": [
      "2002,2009,2016,2023,2037,2044,2051,2058,2072,2079,2086,2093,2107,2114,2121,2128,2142,2149,2156,2163,2177,2184,2191,2198,2212,2219,2226,2233,2247,2254,2261,2268,2282,2289,2296,2303,2317,2324,2331,2338,2352,2359,2366,2373,2387,2394,2401,2408,2422,2429,2436,2443,2457,2464,2471,2478,2492,2499,2506,2513,2527,2534,2541,2548,2562,2569,2576,2583,2597,2604,2611,2618,2632,2639,2646,2653,2667,2674,2681,2688,2702,2709,2716,2723,2737,2744,2751,2758,2772,2779,2786,2793,2807,2814,2821,2828,2842,2849,2856,2863,2877,2884,2891,2898,2912,2919,2926,2933,2947,2954,2961,2968,2982,2989,2996,3003,3017,3024,3031,3038,3052,3059,3066,3073,3087,3094,3101,3108,3122,3129,3136,3143,3157,3164,3171,3178,3192,3199,"
     ]
    }
   ],
   "source": [
    "## Question 4\n",
    "\n",
    "for i in range(2000,3200):\n",
    "    if i%7 == 0 and i%5!= 0:\n",
    "        print(i, end=\",\")"
   ]
  },
  {
   "cell_type": "code",
   "execution_count": 42,
   "id": "c01bbf5d",
   "metadata": {},
   "outputs": [
    {
     "name": "stdout",
     "output_type": "stream",
     "text": [
      "Enter a number: 10\n",
      "3628800\n"
     ]
    }
   ],
   "source": [
    "##Question 5\n",
    "\n",
    "x = int(input(\"Enter a number: \"))    \n",
    "y = 1\n",
    "for i in range(1,x+1):\n",
    "    y = y * i\n",
    "print(y)    "
   ]
  },
  {
   "cell_type": "code",
   "execution_count": 4,
   "id": "314b13c6",
   "metadata": {},
   "outputs": [
    {
     "name": "stdout",
     "output_type": "stream",
     "text": [
      "Put your own string:hello team\n",
      "hlota\n"
     ]
    }
   ],
   "source": [
    "## Question 6\n",
    "\n",
    "string1 = input(\"Put your own string:\")\n",
    "string2= \"\"\n",
    "for i in range(len(string1)):\n",
    "    if(i%2 == 0):\n",
    "        string2 = string2 + string1[i]\n",
    "print(string2)"
   ]
  },
  {
   "cell_type": "code",
   "execution_count": 8,
   "id": "da1ae78d",
   "metadata": {},
   "outputs": [
    {
     "name": "stdout",
     "output_type": "stream",
     "text": [
      "Enter a price to calculate discount: 600\n",
      "300.0\n"
     ]
    }
   ],
   "source": [
    "## Question 7\n",
    "\n",
    "x = int(input(\"Enter a price to calculate discount: \")) \n",
    "y = 1\n",
    "\n",
    "if (x>=500):\n",
    "##50%\n",
    "   print(x*0.5)\n",
    "\n",
    "elif x in range(200,500):\n",
    "## 30%\n",
    "   print(x*0.3)\n",
    "    \n",
    "elif (x<200):    \n",
    "## 10%\n",
    "   print(x*0.1)\n",
    "    \n"
   ]
  },
  {
   "cell_type": "code",
   "execution_count": null,
   "id": "9ceb4ff0",
   "metadata": {},
   "outputs": [],
   "source": []
  }
 ],
 "metadata": {
  "kernelspec": {
   "display_name": "Python 3 (ipykernel)",
   "language": "python",
   "name": "python3"
  },
  "language_info": {
   "codemirror_mode": {
    "name": "ipython",
    "version": 3
   },
   "file_extension": ".py",
   "mimetype": "text/x-python",
   "name": "python",
   "nbconvert_exporter": "python",
   "pygments_lexer": "ipython3",
   "version": "3.9.7"
  }
 },
 "nbformat": 4,
 "nbformat_minor": 5
}
