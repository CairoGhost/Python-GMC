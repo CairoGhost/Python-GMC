{
 "cells": [
  {
   "cell_type": "code",
   "execution_count": 1,
   "id": "6d1ffdd0",
   "metadata": {},
   "outputs": [
    {
     "name": "stdout",
     "output_type": "stream",
     "text": [
      "array: array('i', [1, 3, 5, 3, 7, 1, 9, 3])\n",
      "Convert the said array to an ordinary list with the same items:\n",
      "[1, 3, 5, 3, 7, 1, 9, 3]\n"
     ]
    }
   ],
   "source": [
    "##Question 1\n",
    "\n",
    "from array import *\n",
    "array_num = array('i', [1, 3, 5, 3, 7, 1, 9, 3])\n",
    "print(\"array: \"+str(array_num))\n",
    "num_list = array_num.tolist()\n",
    "print(\"Convert the said array to an ordinary list with the same items:\")\n",
    "print(num_list)"
   ]
  },
  {
   "cell_type": "code",
   "execution_count": 2,
   "id": "2f471471",
   "metadata": {},
   "outputs": [
    {
     "name": "stdout",
     "output_type": "stream",
     "text": [
      "Original matrix:\n",
      "[[0 1 2]\n",
      " [3 4 5]]\n",
      "Condition number of the said matrix:\n",
      "4\n"
     ]
    }
   ],
   "source": [
    "##Question 2\n",
    "\n",
    "import numpy as np\n",
    "m = np.arange(6).reshape(2,3)\n",
    "print(\"Original matrix:\")\n",
    "print(m)\n",
    "result =  np.trace(m)\n",
    "print(\"Condition number of the said matrix:\")\n",
    "print(result)"
   ]
  },
  {
   "cell_type": "code",
   "execution_count": 3,
   "id": "f0dfc4bb",
   "metadata": {},
   "outputs": [
    {
     "name": "stdout",
     "output_type": "stream",
     "text": [
      "[4 5]\n"
     ]
    }
   ],
   "source": [
    "##Question 3\n",
    "a = np.array([1, 2, 3, 4, 5])\n",
    "x = 3\n",
    "result = a[np.where((a>x))]\n",
    "print(result)\n",
    "\n",
    "  "
   ]
  },
  {
   "cell_type": "code",
   "execution_count": 4,
   "id": "50e010dc",
   "metadata": {},
   "outputs": [
    {
     "name": "stdout",
     "output_type": "stream",
     "text": [
      "Array A:  [1 2 3 4 5]\n",
      "Array B:  [2 3 4 5 6]\n",
      "Array C:  [ 3  5  7  9 11]\n"
     ]
    }
   ],
   "source": [
    "##Question 4\n",
    "\n",
    "A = np.array([1, 2, 3, 4, 5])\n",
    "B = np.array([2, 3, 4, 5, 6])\n",
    "   \n",
    "print (\"Array A: \", A)  \n",
    "print (\"Array B: \", B)  \n",
    "   \n",
    "out_arr = np.add(A, B)  \n",
    "print (\"Array C: \", out_arr)  "
   ]
  },
  {
   "cell_type": "code",
   "execution_count": 8,
   "id": "6b3d41a4",
   "metadata": {},
   "outputs": [
    {
     "name": "stdout",
     "output_type": "stream",
     "text": [
      "[[ -2.5 -12.5]\n",
      " [ 12.5   2.5]]\n"
     ]
    }
   ],
   "source": [
    "##Question 5 \n",
    "\n",
    "import numpy as np \n",
    "a = np.array ([[10, 15],[25, 30]])\n",
    "\n",
    "x = a - a.mean(axis=1)\n",
    "\n",
    "print(x)"
   ]
  },
  {
   "cell_type": "code",
   "execution_count": null,
   "id": "919b238c",
   "metadata": {},
   "outputs": [],
   "source": []
  }
 ],
 "metadata": {
  "kernelspec": {
   "display_name": "Python 3 (ipykernel)",
   "language": "python",
   "name": "python3"
  },
  "language_info": {
   "codemirror_mode": {
    "name": "ipython",
    "version": 3
   },
   "file_extension": ".py",
   "mimetype": "text/x-python",
   "name": "python",
   "nbconvert_exporter": "python",
   "pygments_lexer": "ipython3",
   "version": "3.9.7"
  }
 },
 "nbformat": 4,
 "nbformat_minor": 5
}
