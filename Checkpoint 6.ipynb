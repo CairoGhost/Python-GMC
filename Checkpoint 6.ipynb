{
 "cells": [
  {
   "cell_type": "code",
   "execution_count": 2,
   "id": "60f177fe",
   "metadata": {},
   "outputs": [
    {
     "name": "stdout",
     "output_type": "stream",
     "text": [
      "(1, 2, 3)\n"
     ]
    }
   ],
   "source": [
    "##Question 1\n",
    "\n",
    "class Point3D(object):\n",
    "    def __init__(self, x, y, z):\n",
    "        self.x = x\n",
    "        self.y = y\n",
    "        self.z = z\n",
    "    def __repr__(self):\n",
    "        return \"(%d, %d, %d)\" % (self.x, self.y, self.z)\n",
    "        \n",
    "my_point = Point3D(1,2,3)\n",
    "\n",
    "print(my_point)"
   ]
  },
  {
   "cell_type": "code",
   "execution_count": 34,
   "id": "5758b846",
   "metadata": {},
   "outputs": [
    {
     "ename": "TypeError",
     "evalue": "Rectangle() takes no arguments",
     "output_type": "error",
     "traceback": [
      "\u001b[1;31m---------------------------------------------------------------------------\u001b[0m",
      "\u001b[1;31mTypeError\u001b[0m                                 Traceback (most recent call last)",
      "\u001b[1;32m~\\AppData\\Local\\Temp/ipykernel_3336/1572117300.py\u001b[0m in \u001b[0;36m<module>\u001b[1;34m\u001b[0m\n\u001b[0;32m      9\u001b[0m         \u001b[1;32mreturn\u001b[0m \u001b[0mself\u001b[0m\u001b[1;33m.\u001b[0m\u001b[0mlength\u001b[0m\u001b[1;33m*\u001b[0m\u001b[0mself\u001b[0m\u001b[1;33m.\u001b[0m\u001b[0mwidth\u001b[0m\u001b[1;33m\u001b[0m\u001b[1;33m\u001b[0m\u001b[0m\n\u001b[0;32m     10\u001b[0m \u001b[1;33m\u001b[0m\u001b[0m\n\u001b[1;32m---> 11\u001b[1;33m \u001b[0mnewRectangle\u001b[0m \u001b[1;33m=\u001b[0m \u001b[0mRectangle\u001b[0m\u001b[1;33m(\u001b[0m\u001b[1;36m3\u001b[0m\u001b[1;33m,\u001b[0m \u001b[1;36m4\u001b[0m\u001b[1;33m)\u001b[0m\u001b[1;33m\u001b[0m\u001b[1;33m\u001b[0m\u001b[0m\n\u001b[0m\u001b[0;32m     12\u001b[0m \u001b[0mprint\u001b[0m\u001b[1;33m(\u001b[0m\u001b[0mnewRectangle\u001b[0m\u001b[1;33m.\u001b[0m\u001b[0mrectangle_area\u001b[0m\u001b[1;33m)\u001b[0m\u001b[1;33m\u001b[0m\u001b[1;33m\u001b[0m\u001b[0m\n",
      "\u001b[1;31mTypeError\u001b[0m: Rectangle() takes no arguments"
     ]
    }
   ],
   "source": [
    "##Question 2 \n",
    "\n",
    "class Rectangle:\n",
    "    def _init_ (self, width, length):\n",
    "        self.length = length \n",
    "        self.width = width\n",
    "    \n",
    "def rectangle_area(self):\n",
    "        return self.length*self.width\n",
    "\n",
    "newRectangle = Rectangle(3, 4)\n",
    "print(newRectangle.rectangle_area)\n"
   ]
  },
  {
   "cell_type": "code",
   "execution_count": null,
   "id": "c0031c58",
   "metadata": {},
   "outputs": [],
   "source": [
    "##Question 3 --- Honestly this one was hell on earth. \n",
    "\n",
    "class Circle ():\n",
    "     def _init_ (self, center, radius):\n",
    "        self.center = c \n",
    "        self.radius = r\n",
    "        \n",
    "        class Circle():\n",
    "    def __init__(self, r):\n",
    "        self.radius = r\n",
    "\n",
    "    def area(self):\n",
    "        return self.radius**2*3.14\n",
    "    \n",
    "    def perimeter(self):\n",
    "        return 2*self.radius*3.14\n",
    "\n",
    "NewCircle = Circle(8)\n",
    "print(NewCircle.area())\n",
    "print(NewCircle.perimeter())\n",
    "\n",
    "'''HERE somehow need to show that the points belong in the radius.., so if? bolean\n",
    "if points are in within then it is true?'''\n",
    "        \n",
    "        "
   ]
  },
  {
   "cell_type": "code",
   "execution_count": 23,
   "id": "35f9e7c9",
   "metadata": {},
   "outputs": [],
   "source": [
    "##question 4 \n",
    "\n",
    "class Bank_Account:\n",
    "    def __init__(self):\n",
    "        self.balance=0\n",
    "        print(\"Welcome to Deposit & Withdrawal Machine!\")\n",
    "        \n",
    "    def deposit(self):\n",
    "        amount=float(input(\"Enter amount for deposit: \"))\n",
    "        self.balance += amount\n",
    "        print(\"Deposited amount: \",amount)\n",
    "    def withdraw(self):\n",
    "        amount = float(input(\"Enter amount for withdrawal: \"))\n",
    "        if self.balance>=amount:\n",
    "            self.balance-=amount\n",
    "            print(\"Withdrawn: \",amount)\n",
    "   \n"
   ]
  }
 ],
 "metadata": {
  "kernelspec": {
   "display_name": "Python 3 (ipykernel)",
   "language": "python",
   "name": "python3"
  },
  "language_info": {
   "codemirror_mode": {
    "name": "ipython",
    "version": 3
   },
   "file_extension": ".py",
   "mimetype": "text/x-python",
   "name": "python",
   "nbconvert_exporter": "python",
   "pygments_lexer": "ipython3",
   "version": "3.9.7"
  }
 },
 "nbformat": 4,
 "nbformat_minor": 5
}
