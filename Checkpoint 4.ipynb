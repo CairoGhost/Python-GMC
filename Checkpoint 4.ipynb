{
 "cells": [
  {
   "cell_type": "code",
   "execution_count": 2,
   "id": "bd6a762f",
   "metadata": {},
   "outputs": [
    {
     "name": "stdout",
     "output_type": "stream",
     "text": [
      "Enter first number: 20\n",
      "Enter second number: 35\n",
      "Enter third number: 19\n",
      "Maximum Number is ::> 35\n"
     ]
    }
   ],
   "source": [
    "## Question 1\n",
    "\n",
    "def maximum(a, b, c): \n",
    "   list = [a, b, c] \n",
    "   return max(list) \n",
    "x = int(input(\"Enter first number: \"))\n",
    "y = int(input(\"Enter second number: \"))\n",
    "z = int(input(\"Enter third number: \"))\n",
    "print(\"Maximum Number is ::>\",maximum(x, y, z)) "
   ]
  },
  {
   "cell_type": "code",
   "execution_count": 8,
   "id": "2940c77d",
   "metadata": {},
   "outputs": [
    {
     "name": "stdout",
     "output_type": "stream",
     "text": [
      "(70, 50)\n"
     ]
    }
   ],
   "source": [
    "##Question 2 \n",
    "\n",
    "def calculation(x, y):\n",
    "    addition = x + y\n",
    "    substraction = x - y\n",
    "    return addition, substraction\n",
    "res = calculation(60, 10)\n",
    "print(res)\n"
   ]
  },
  {
   "cell_type": "code",
   "execution_count": 18,
   "id": "a98e97fe",
   "metadata": {},
   "outputs": [
    {
     "name": "stdout",
     "output_type": "stream",
     "text": [
      "total of the list:  216\n",
      "36\n"
     ]
    }
   ],
   "source": [
    "##Question 3 \n",
    "\n",
    "##part 1\n",
    "numberlist = [10,50,15,20,13]\n",
    "numsum = sum(numberlist)\n",
    "for i in numberlist:\n",
    "    numsum+=i\n",
    "print('total of the list: ',numsum)\n",
    "\n",
    "##part 2\n",
    "def multipliedlist(myList) :\n",
    "    result = 1\n",
    "    for x in myList:\n",
    "        result = result * x\n",
    "    return result\n",
    "list1 = [2, 3, 6]\n",
    "print(multipliedlist(list1))\n",
    " \n",
    "    ##honestly I didn't get the last part of the instructions\n",
    "    \n"
   ]
  },
  {
   "cell_type": "code",
   "execution_count": 19,
   "id": "b05d80e3",
   "metadata": {},
   "outputs": [
    {
     "name": "stdout",
     "output_type": "stream",
     "text": [
      "enter the string: green-red-yellow-black-white\n",
      "black-green-red-white-yellow\n"
     ]
    }
   ],
   "source": [
    "##question 4\n",
    "\n",
    "n=input(\"enter the string: \") \n",
    "l=n.split('-') \n",
    "l.sort() \n",
    "print('-'.join(l)) "
   ]
  },
  {
   "cell_type": "code",
   "execution_count": null,
   "id": "fdde56a1",
   "metadata": {},
   "outputs": [],
   "source": []
  }
 ],
 "metadata": {
  "kernelspec": {
   "display_name": "Python 3 (ipykernel)",
   "language": "python",
   "name": "python3"
  },
  "language_info": {
   "codemirror_mode": {
    "name": "ipython",
    "version": 3
   },
   "file_extension": ".py",
   "mimetype": "text/x-python",
   "name": "python",
   "nbconvert_exporter": "python",
   "pygments_lexer": "ipython3",
   "version": "3.9.7"
  }
 },
 "nbformat": 4,
 "nbformat_minor": 5
}
